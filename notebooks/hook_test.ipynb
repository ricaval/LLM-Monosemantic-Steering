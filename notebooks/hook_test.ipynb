{
 "cells": [
  {
   "cell_type": "code",
   "execution_count": null,
   "id": "f528fb67",
   "metadata": {},
   "outputs": [
    {
     "data": {
      "application/vnd.jupyter.widget-view+json": {
       "model_id": "48b21348d81b4914a681a6d5ee348734",
       "version_major": 2,
       "version_minor": 0
      },
      "text/plain": [
       "Loading checkpoint shards:   0%|          | 0/2 [00:00<?, ?it/s]"
      ]
     },
     "metadata": {},
     "output_type": "display_data"
    },
    {
     "name": "stdout",
     "output_type": "stream",
     "text": [
      "L16 shape: torch.Size([1, 9, 4096])\n"
     ]
    }
   ],
   "source": [
    "from transformers import AutoModelForCausalLM, AutoTokenizer\n",
    "import torch\n",
    "\n",
    "model_path = \"../models/Mistral-7B-v0.1/models--mistralai--Mistral-7B-v0.1/snapshots/7231864981174d9bee8c7687c24c8344414eae6b\"\n",
    "\n",
    "tokenizer = AutoTokenizer.from_pretrained(model_path)\n",
    "model = AutoModelForCausalLM.from_pretrained(\n",
    "    model_path,\n",
    "    device_map=\"cuda\",\n",
    "    torch_dtype=torch.float16,\n",
    "    local_files_only=True\n",
    ")\n",
    "\n",
    "\n",
    "# Quick hook test on layer 16\n",
    "activations = {}\n",
    "def hook16(m, inp, out): activations[\"l16\"] = out.detach().cpu()\n",
    "target_layer = model.model.layers[16].post_attention_layernorm\n",
    "target_layer.register_forward_hook( hook16)\n",
    "\n",
    "inputs = tokenizer(\"What is the mechanism of aspirin?\", return_tensors=\"pt\").to(\"cuda\")\n",
    "with torch.no_grad(): _ = model(**inputs)\n",
    "print(\"L16 shape:\", activations[\"l16\"].shape)\n"
   ]
  }
 ],
 "metadata": {
  "kernelspec": {
   "display_name": "medvec",
   "language": "python",
   "name": "python3"
  },
  "language_info": {
   "codemirror_mode": {
    "name": "ipython",
    "version": 3
   },
   "file_extension": ".py",
   "mimetype": "text/x-python",
   "name": "python",
   "nbconvert_exporter": "python",
   "pygments_lexer": "ipython3",
   "version": "3.11.11"
  }
 },
 "nbformat": 4,
 "nbformat_minor": 5
}
