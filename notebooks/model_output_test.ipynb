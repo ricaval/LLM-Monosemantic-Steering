{
 "cells": [
  {
   "cell_type": "code",
   "execution_count": null,
   "id": "5ac9241f",
   "metadata": {},
   "outputs": [
    {
     "data": {
      "application/vnd.jupyter.widget-view+json": {
       "model_id": "f018e7bb3b224744aab365176af6d989",
       "version_major": 2,
       "version_minor": 0
      },
      "text/plain": [
       "Loading checkpoint shards:   0%|          | 0/2 [00:00<?, ?it/s]"
      ]
     },
     "metadata": {},
     "output_type": "display_data"
    },
    {
     "name": "stderr",
     "output_type": "stream",
     "text": [
      "Setting `pad_token_id` to `eos_token_id`:2 for open-end generation.\n",
      "Setting `pad_token_id` to `eos_token_id`:2 for open-end generation.\n"
     ]
    }
   ],
   "source": [
    "#!/usr/bin/env python\n",
    "import os, json, torch, numpy as np\n",
    "from transformers import AutoTokenizer, AutoModelForCausalLM\n",
    "\n",
    "# ——— CONFIG ———\n",
    "MODEL_DIR = os.path.expanduser(\"../models/mistral_cache\")\n",
    "\n",
    "PROMPTS   = [\n",
    "  {\"id\": 0, \"prompt\": \"\"\"Case: A 21-year-old sexually active male presents with fever, dysuria, and right-knee pain. Joint fluid culture grows a non-maltose-fermenting, non-capsulated bacterium.\n",
    "Question: Which antibiotic was given, knowing it blocks cell-wall synthesis?\"\"\"},\n",
    "  {\"id\": 1, \"prompt\": \"\"\"Question: What causes Glaucoma ?\n",
    "    Best Shortest Answer:\"\"\"},\n",
    "]\n",
    "OUT_PATH  = os.path.expanduser(\"../data/activations/layer16_proto.jsonl\")\n",
    "# —————————————————\n",
    "\n",
    "# Load once\n",
    "tokenizer = AutoTokenizer.from_pretrained(MODEL_DIR,\n",
    "                                          local_files_only=True)\n",
    "model = AutoModelForCausalLM.from_pretrained(\n",
    "    MODEL_DIR,\n",
    "    local_files_only=True,\n",
    "    torch_dtype=torch.float16,\n",
    "    low_cpu_mem_usage=True,   # shrink peak CPU RAM during load\n",
    "    device_map=None           # do not use accelerate auto-offload\n",
    ")\n",
    "\n",
    "# Now pin everything on GPU in one go\n",
    "model = model.to(\"cuda\")\n",
    "\n",
    "# Hook layer16\n",
    "act_buffer = {}\n",
    "def hook(m, inp, out):\n",
    "    # out: [1, T, D]\n",
    "    act_buffer[\"raw\"] = out.detach().cpu().numpy()[0]\n",
    "model.model.layers[16].post_attention_layernorm.register_forward_hook(hook)\n",
    "\n",
    "# Run & dump\n",
    "os.makedirs(os.path.dirname(OUT_PATH), exist_ok=True)\n",
    "with open(OUT_PATH, \"w\") as fout:\n",
    "    for ex in PROMPTS:\n",
    "        # Tokenize\n",
    "        enc = tokenizer(ex[\"prompt\"], return_tensors=\"pt\").to(\"cuda\")\n",
    "        tokens = enc[\"input_ids\"][0].cpu().tolist()\n",
    " \n",
    "        # Forward\n",
    "        with torch.no_grad():\n",
    "            generated = model.generate(**enc, max_new_tokens=50)\n",
    "        text_out = tokenizer.decode(generated[0], skip_special_tokens=True)\n",
    "\n",
    "        # Fetch + pool vector\n",
    "        raw = act_buffer.pop(\"raw\")\n",
    "        vec = raw.mean(axis=0).tolist()\n",
    "        # Emit JSON line\n",
    "        fout.write(json.dumps({\n",
    "            \"id\":      ex[\"id\"],\n",
    "            \"prompt\":  ex[\"prompt\"],\n",
    "            \"output\":  text_out,\n",
    "            \"tokens\":  tokens,\n",
    "            \"vector\":  vec\n",
    "        }) + \"\\n\")\n",
    "\n",
    "        # Cleanup\n",
    "        del enc, generated, raw, vec\n",
    "        torch.cuda.empty_cache()\n"
   ]
  }
 ],
 "metadata": {
  "kernelspec": {
   "display_name": "medvec",
   "language": "python",
   "name": "python3"
  },
  "language_info": {
   "codemirror_mode": {
    "name": "ipython",
    "version": 3
   },
   "file_extension": ".py",
   "mimetype": "text/x-python",
   "name": "python",
   "nbconvert_exporter": "python",
   "pygments_lexer": "ipython3",
   "version": "3.11.11"
  }
 },
 "nbformat": 4,
 "nbformat_minor": 5
}
